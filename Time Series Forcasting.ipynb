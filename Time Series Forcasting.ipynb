{
 "cells": [
  {
   "cell_type": "code",
   "execution_count": 1,
   "id": "fb741a4b",
   "metadata": {},
   "outputs": [
    {
     "name": "stderr",
     "output_type": "stream",
     "text": [
      "C:\\Users\\User\\anaconda3\\lib\\site-packages\\pandas\\core\\arrays\\masked.py:61: UserWarning: Pandas requires version '1.3.6' or newer of 'bottleneck' (version '1.3.5' currently installed).\n",
      "  from pandas.core import (\n"
     ]
    }
   ],
   "source": [
    "import pandas as pd\n",
    "import numpy as np\n",
    "import matplotlib.pyplot as plt\n",
    "from sklearn.model_selection import train_test_split\n",
    "from sklearn.linear_model import LinearRegression\n",
    "from sklearn.metrics import mean_squared_error\n",
    "import warnings as wr\n",
    "wr.filterwarnings('ignore')"
   ]
  },
  {
   "cell_type": "code",
   "execution_count": 2,
   "id": "788a33f9",
   "metadata": {},
   "outputs": [],
   "source": [
    "# data is collected from kaggle\n",
    "df = pd.read_csv('Sales data.csv')"
   ]
  },
  {
   "cell_type": "code",
   "execution_count": 3,
   "id": "0c9533d6",
   "metadata": {},
   "outputs": [
    {
     "data": {
      "text/html": [
       "<div>\n",
       "<style scoped>\n",
       "    .dataframe tbody tr th:only-of-type {\n",
       "        vertical-align: middle;\n",
       "    }\n",
       "\n",
       "    .dataframe tbody tr th {\n",
       "        vertical-align: top;\n",
       "    }\n",
       "\n",
       "    .dataframe thead th {\n",
       "        text-align: right;\n",
       "    }\n",
       "</style>\n",
       "<table border=\"1\" class=\"dataframe\">\n",
       "  <thead>\n",
       "    <tr style=\"text-align: right;\">\n",
       "      <th></th>\n",
       "      <th>Unnamed: 0</th>\n",
       "      <th>Date</th>\n",
       "      <th>Sales</th>\n",
       "    </tr>\n",
       "  </thead>\n",
       "  <tbody>\n",
       "    <tr>\n",
       "      <th>0</th>\n",
       "      <td>0</td>\n",
       "      <td>2015-01-04</td>\n",
       "      <td>14.934283</td>\n",
       "    </tr>\n",
       "    <tr>\n",
       "      <th>1</th>\n",
       "      <td>1</td>\n",
       "      <td>2015-01-11</td>\n",
       "      <td>7.234714</td>\n",
       "    </tr>\n",
       "    <tr>\n",
       "      <th>2</th>\n",
       "      <td>2</td>\n",
       "      <td>2015-01-18</td>\n",
       "      <td>27.953771</td>\n",
       "    </tr>\n",
       "    <tr>\n",
       "      <th>3</th>\n",
       "      <td>3</td>\n",
       "      <td>2015-01-25</td>\n",
       "      <td>50.460597</td>\n",
       "    </tr>\n",
       "    <tr>\n",
       "      <th>4</th>\n",
       "      <td>4</td>\n",
       "      <td>2015-02-01</td>\n",
       "      <td>20.316933</td>\n",
       "    </tr>\n",
       "  </tbody>\n",
       "</table>\n",
       "</div>"
      ],
      "text/plain": [
       "   Unnamed: 0        Date      Sales\n",
       "0           0  2015-01-04  14.934283\n",
       "1           1  2015-01-11   7.234714\n",
       "2           2  2015-01-18  27.953771\n",
       "3           3  2015-01-25  50.460597\n",
       "4           4  2015-02-01  20.316933"
      ]
     },
     "execution_count": 3,
     "metadata": {},
     "output_type": "execute_result"
    }
   ],
   "source": [
    "df.head()"
   ]
  },
  {
   "cell_type": "code",
   "execution_count": 4,
   "id": "5e436d3c",
   "metadata": {},
   "outputs": [],
   "source": [
    "df.drop('Unnamed: 0', axis=1, inplace=True)"
   ]
  },
  {
   "cell_type": "code",
   "execution_count": null,
   "id": "6b9a8457",
   "metadata": {},
   "outputs": [],
   "source": [
    "plt.figure(figsize=(14, 6))\n",
    "plt.plot(df[\"Date\"], df[\"Sales\"], label=\"Actual Sales\")\n",
    "plt.title(\"Synthetic Daily Sales Data\")\n",
    "plt.xlabel(\"Date\")\n",
    "plt.ylabel(\"Sales\")\n",
    "plt.legend()\n",
    "plt.show()"
   ]
  },
  {
   "cell_type": "code",
   "execution_count": null,
   "id": "c8be5887",
   "metadata": {},
   "outputs": [],
   "source": [
    "df.head()"
   ]
  },
  {
   "cell_type": "code",
   "execution_count": null,
   "id": "365bddea",
   "metadata": {},
   "outputs": [],
   "source": [
    "df['Date'] = pd.to_datetime(df['Date']).dt.floor('D')\n",
    "df.info()"
   ]
  },
  {
   "cell_type": "code",
   "execution_count": null,
   "id": "b0901712",
   "metadata": {},
   "outputs": [],
   "source": [
    "# Make sure 'Date' column is in datetime format\n",
    "df['Date'] = pd.to_datetime(df['Date'])\n",
    "\n",
    "# Extract useful date/time features\n",
    "df[\"DayOfYear\"] = df[\"Date\"].dt.dayofyear\n",
    "df[\"WeekOfYear\"] = df[\"Date\"].dt.isocalendar().week  # updated line\n",
    "df[\"DayOfWeek\"] = df[\"Date\"].dt.dayofweek\n",
    "df[\"Month\"] = df[\"Date\"].dt.month\n",
    "df[\"Year\"] = df[\"Date\"].dt.year\n"
   ]
  },
  {
   "cell_type": "code",
   "execution_count": null,
   "id": "7b347ab7",
   "metadata": {},
   "outputs": [],
   "source": [
    "plt.figure(figsize=(14, 6))\n",
    "plt.plot(df[\"Date\"], df[\"Sales\"], label=\"Actual Sales\")\n",
    "plt.title(\"Synthetic Daily Sales Data\")\n",
    "plt.xlabel(\"Date\")\n",
    "plt.ylabel(\"Sales\")\n",
    "plt.legend()\n",
    "plt.show()"
   ]
  },
  {
   "cell_type": "code",
   "execution_count": null,
   "id": "ce1d2c7e",
   "metadata": {},
   "outputs": [],
   "source": [
    "plt.figure(figsize=(14, 6))\n",
    "plt.plot(df[\"Year\"], df[\"Sales\"], label=\"Actual Sales\")\n",
    "plt.title(\"Synthetic Daily Sales Data\")\n",
    "plt.xlabel(\"Date\")\n",
    "plt.ylabel(\"Sales\")\n",
    "plt.legend()\n",
    "plt.show()"
   ]
  },
  {
   "cell_type": "code",
   "execution_count": null,
   "id": "04c53638",
   "metadata": {},
   "outputs": [],
   "source": [
    "train_size = int(len(df) * 0.8)\n",
    "train_data, test_data = df[:train_size], df[train_size:]"
   ]
  },
  {
   "cell_type": "code",
   "execution_count": null,
   "id": "d3701167",
   "metadata": {},
   "outputs": [],
   "source": [
    "xtrain = train_data[[\"DayOfWeek\", \"Month\", \"Year\", \"DayOfYear\", \"WeekOfYear\"]]\n",
    "ytrain = train_data[\"Sales\"]\n",
    "xtest = test_data[[\"DayOfWeek\", \"Month\", \"Year\", \"DayOfYear\", \"WeekOfYear\"]]\n",
    "ytest = test_data[\"Sales\"]"
   ]
  },
  {
   "cell_type": "code",
   "execution_count": null,
   "id": "64c4b3f7",
   "metadata": {},
   "outputs": [],
   "source": [
    "xtrain.head()"
   ]
  },
  {
   "cell_type": "code",
   "execution_count": null,
   "id": "6bbf3b5a",
   "metadata": {},
   "outputs": [],
   "source": [
    "model = LinearRegression()\n",
    "model.fit(xtrain, ytrain)"
   ]
  },
  {
   "cell_type": "code",
   "execution_count": null,
   "id": "c30b4479",
   "metadata": {},
   "outputs": [],
   "source": [
    "y_pred = model.predict(xtest)\n",
    "mse = mean_squared_error(ytest, y_pred)\n",
    "print(f\"Mean Squared Error: {mse}\")"
   ]
  },
  {
   "cell_type": "code",
   "execution_count": null,
   "id": "63661a8a",
   "metadata": {},
   "outputs": [],
   "source": [
    "model.score(xtest, ytest)"
   ]
  },
  {
   "cell_type": "code",
   "execution_count": null,
   "id": "cdcf64aa",
   "metadata": {},
   "outputs": [],
   "source": [
    "residuals = ytest - y_pred\n",
    "residuals.head()"
   ]
  },
  {
   "cell_type": "code",
   "execution_count": null,
   "id": "837d4d15",
   "metadata": {},
   "outputs": [],
   "source": [
    "plt.figure(figsize=(16, 8)) \n",
    "plt.scatter(ytest, y_pred, color='black') \n",
    "plt.scatter(ytest, ytest, color='red') \n",
    "plt.title(\"Residuals vs. Actual Sales\") \n",
    "plt.xlabel(\"Actual Sales\") \n",
    "plt.ylabel(\"Residuals\") "
   ]
  },
  {
   "cell_type": "code",
   "execution_count": null,
   "id": "c3de65d0",
   "metadata": {},
   "outputs": [],
   "source": [
    "plt.figure(figsize=(13, 8)) \n",
    "plt.hist(residuals, bins=20, edgecolor='black')\n",
    "plt.title(\"Histogram of Residuals\")\n",
    "plt.xlabel(\"Residuals\")\n",
    "plt.ylabel(\"Frequency\")\n",
    "plt.show()"
   ]
  },
  {
   "cell_type": "markdown",
   "id": "78a960d6",
   "metadata": {},
   "source": [
    "# Forcasting into the Future time period"
   ]
  },
  {
   "cell_type": "code",
   "execution_count": null,
   "id": "3b194209",
   "metadata": {},
   "outputs": [],
   "source": [
    "forecast_dates = pd.date_range(start=\"2023-01-01\", end=\"2025-12-31\", freq=\"D\")\n",
    "forecast_data = pd.DataFrame({\"Date\": forecast_dates})\n",
    "\n",
    "forecast_data[\"DayOfWeek\"] = forecast_data[\"Date\"].dt.dayofweek\n",
    "forecast_data[\"Month\"] = forecast_data[\"Date\"].dt.month\n",
    "forecast_data[\"Year\"] = forecast_data[\"Date\"].dt.year\n",
    "forecast_data[\"DayOfYear\"] = forecast_data[\"Date\"].dt.dayofyear\n",
    "forecast_data[\"WeekOfYear\"] = forecast_data[\"Date\"].dt.weekofyear"
   ]
  },
  {
   "cell_type": "code",
   "execution_count": null,
   "id": "1e5466ff",
   "metadata": {},
   "outputs": [],
   "source": [
    "forecast_sales = model.predict(forecast_data[[\"DayOfWeek\", \"Month\", \"Year\", \"DayOfYear\", \"WeekOfYear\"]])"
   ]
  },
  {
   "cell_type": "code",
   "execution_count": null,
   "id": "11534a4f",
   "metadata": {},
   "outputs": [],
   "source": [
    "forecast_sales"
   ]
  },
  {
   "cell_type": "code",
   "execution_count": null,
   "id": "61268182",
   "metadata": {},
   "outputs": [],
   "source": [
    "plt.figure(figsize=(12, 6))\n",
    "plt.plot(df[\"Date\"], df[\"Sales\"], label=\"Actual Sales\")\n",
    "plt.plot(test_data[\"Date\"], ytest, label=\"Test Set - Actual Sales\")\n",
    "plt.plot(test_data[\"Date\"], y_pred, label=\"Test Set - Predicted Sales\", linestyle=\"--\")\n",
    "plt.plot(forecast_data[\"Date\"], forecast_sales, label=\"Forecasted Sales\", linestyle=\"--\")\n",
    "plt.title(\"Sales Forecasting using Linear Regression\")\n",
    "plt.xlabel(\"Date\")\n",
    "plt.ylabel(\"Sales\")\n",
    "plt.legend()\n",
    "plt.show()"
   ]
  },
  {
   "cell_type": "code",
   "execution_count": null,
   "id": "2e7713d7",
   "metadata": {},
   "outputs": [],
   "source": []
  }
 ],
 "metadata": {
  "kernelspec": {
   "display_name": "Python 3 (ipykernel)",
   "language": "python",
   "name": "python3"
  },
  "language_info": {
   "codemirror_mode": {
    "name": "ipython",
    "version": 3
   },
   "file_extension": ".py",
   "mimetype": "text/x-python",
   "name": "python",
   "nbconvert_exporter": "python",
   "pygments_lexer": "ipython3",
   "version": "3.10.9"
  }
 },
 "nbformat": 4,
 "nbformat_minor": 5
}
